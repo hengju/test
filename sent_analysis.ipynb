{
 "cells": [
  {
   "cell_type": "code",
   "execution_count": 1,
   "metadata": {},
   "outputs": [],
   "source": [
    "from bs4 import BeautifulSoup\n",
    "import requests\n",
    "import re\n",
    "import os\n",
    "import pandas as pd"
   ]
  },
  {
   "cell_type": "code",
   "execution_count": 2,
   "metadata": {},
   "outputs": [],
   "source": [
    "os.chdir('your directory')"
   ]
  },
  {
   "cell_type": "code",
   "execution_count": 3,
   "metadata": {},
   "outputs": [],
   "source": [
    "# aggregated.csv: 수집한 기사 링크와 본문 내용이 모두 있는 파일  \n",
    "raw_data = pd.read_csv('aggregated.csv', dtype=str, usecols=['date','title','link','content'])\n",
    "index = pd.DataFrame({'index' : [i for i in range(2500)]}, dtype=str) \n",
    "raw_data.insert(0, 'index', index)\n",
    "content_df = raw_data['content']"
   ]
  },
  {
   "cell_type": "code",
   "execution_count": 4,
   "metadata": {},
   "outputs": [],
   "source": [
    "from nltk import sent_tokenize, word_tokenize \n",
    "from nltk.corpus import stopwords\n",
    "\n",
    "# NLTK의 불용어(Stopword) \n",
    "stops = set(stopwords.words(\"english\"))"
   ]
  },
  {
   "cell_type": "markdown",
   "metadata": {},
   "source": [
    "Loughran and McDonald(2011) Financial Dictionary 사용: 긍정 및 부정 어휘 "
   ]
  },
  {
   "cell_type": "code",
   "execution_count": 5,
   "metadata": {},
   "outputs": [],
   "source": [
    "dic_pos = pd.read_csv(\"fin_pos.txt\", names=['word_list'], quoting=3)\n",
    "dic_pos = dic_pos['word_list'].tolist() \n",
    "dic_neg = pd.read_csv(\"fin_neg.txt\", names=['word_list'], quoting=3)\n",
    "dic_neg = dic_neg['word_list'].tolist() "
   ]
  },
  {
   "cell_type": "markdown",
   "metadata": {},
   "source": [
    "날짜 클렌징 작업 "
   ]
  },
  {
   "cell_type": "code",
   "execution_count": 6,
   "metadata": {},
   "outputs": [],
   "source": [
    "def cleansing_date(row): \n",
    "    \n",
    "    from datetime import datetime  \n",
    "    \n",
    "    pattern = re.compile(r'[a-zA-Z]+\\s\\d{2},\\s\\d{4}')   \n",
    "    only_date = ''.join(re.findall(pattern, row))   \n",
    "    d = datetime.strptime(only_date, '%b %d, %Y')   # unclean date ->  'Mar 24, 2020 at 18:52 | Julianne Geiger'\n",
    "    d = d.strftime('%Y-%m-%d')      # clean date -> 'Mar 24, 2020'\n",
    "    \n",
    "    return d"
   ]
  },
  {
   "cell_type": "code",
   "execution_count": 7,
   "metadata": {},
   "outputs": [],
   "source": [
    "new_date = []\n",
    "for row in raw_data['date']: \n",
    "    new_date.append(cleansing_date(row))"
   ]
  },
  {
   "cell_type": "raw",
   "metadata": {},
   "source": [
    "데이터 전처리, 토크나이징 및 감성지수 계산"
   ]
  },
  {
   "cell_type": "code",
   "execution_count": 8,
   "metadata": {},
   "outputs": [],
   "source": [
    "def calculate_sentiment(text):   \n",
    "    \n",
    "    # 클렌징 작업 \n",
    "    text = text[:-250]\n",
    "    text = re.sub(r'(?=googletag)(.*)(?=;).+', '', text)\n",
    "    text = re.sub('[^a-zA-Z\\s]', '', text)\n",
    "    text = text.lower() \n",
    "    text = ' '.join(text.split())\n",
    "    text = text[0:3499]      # 문자열 평균 길이가 약 3500정도 -> content_i == 3500  \n",
    "    \n",
    "\n",
    "    # 토크나이징 및 불용어 제거   \n",
    "    tokenized_text = sent_tokenize(text)  #nltk sent tokenizing\n",
    "    word_list = [] \n",
    "    \n",
    "    for each in tokenized_text: \n",
    "        word_list.extend(word_tokenize(text)) \n",
    "\n",
    "    word_list = [w for w in word_list if not w in stops]\n",
    "    \n",
    "\n",
    "    # 감성지수(Sentiment Index) 계산\n",
    "  \n",
    "    # Positive\n",
    "    pos_word_list = [word for word in word_list if word in dic_pos]     \n",
    "\n",
    "    # Negative\n",
    "    neg_word_list = [word for word in word_list if word in dic_neg]     \n",
    "  \n",
    "    # Count \n",
    "    total_sent = len(pos_word_list) - len(neg_word_list)\n",
    "    total_length = len(pos_word_list) + len(neg_word_list)\n",
    "    \n",
    "    if total_length == 0:       # Financial Dictionary와 하나도 매칭이 안되는 경우\n",
    "        \n",
    "        return 0.00 \n",
    "    \n",
    "    else: \n",
    "        sent_index = (total_sent / total_length)\n",
    "    \n",
    "        return '{:.2f}'.format(sent_index)"
   ]
  },
  {
   "cell_type": "code",
   "execution_count": 9,
   "metadata": {},
   "outputs": [],
   "source": [
    "sent_list = []\n",
    "for i in range(0,2500):\n",
    "    text = content_df[i] \n",
    "    sent_list.append(calculate_sentiment(text)) "
   ]
  },
  {
   "cell_type": "code",
   "execution_count": 10,
   "metadata": {},
   "outputs": [],
   "source": [
    "sent_df = pd.DataFrame({'index':[i for i in range(2500)], 'date':new_date, 'sentiment' : sent_list})  \n",
    "sent_df = sent_df.drop(columns='index')\n",
    "sent_df = sent_df.sort_values('date', ascending=True) # 날짜 기준으로 오름차순 정렬 \n",
    "sent_df['sentiment'] = pd.to_numeric(sent_df[\"sentiment\"])  # sentiment를 숫자형으로 바꿔주기 "
   ]
  },
  {
   "cell_type": "markdown",
   "metadata": {},
   "source": [
    "일별기준 총 감성지수 계산  "
   ]
  },
  {
   "cell_type": "code",
   "execution_count": 11,
   "metadata": {},
   "outputs": [],
   "source": [
    "sent_df_grouped = sent_df.groupby('date') # 데이터를 날짜 그룹으로 묶어주기\n",
    "sent_df_grouped_sum = sent_df_grouped.sum() # 날짜 기준 총 감성지수 계산\n",
    "sent_df_grouped_sum.reset_index(level=['date'], inplace = True)\n",
    "\n",
    "# 저장 \n",
    "#sent_df_grouped_sum.to_csv('daily_sent.csv', sep=',', index=False, encoding='utf-8')"
   ]
  },
  {
   "cell_type": "code",
   "execution_count": 12,
   "metadata": {},
   "outputs": [
    {
     "data": {
      "text/html": [
       "<div>\n",
       "<style scoped>\n",
       "    .dataframe tbody tr th:only-of-type {\n",
       "        vertical-align: middle;\n",
       "    }\n",
       "\n",
       "    .dataframe tbody tr th {\n",
       "        vertical-align: top;\n",
       "    }\n",
       "\n",
       "    .dataframe thead th {\n",
       "        text-align: right;\n",
       "    }\n",
       "</style>\n",
       "<table border=\"1\" class=\"dataframe\">\n",
       "  <thead>\n",
       "    <tr style=\"text-align: right;\">\n",
       "      <th></th>\n",
       "      <th>date</th>\n",
       "      <th>sentiment</th>\n",
       "    </tr>\n",
       "  </thead>\n",
       "  <tbody>\n",
       "    <tr>\n",
       "      <th>0</th>\n",
       "      <td>2015-12-14</td>\n",
       "      <td>0.00</td>\n",
       "    </tr>\n",
       "    <tr>\n",
       "      <th>1</th>\n",
       "      <td>2015-12-15</td>\n",
       "      <td>-0.53</td>\n",
       "    </tr>\n",
       "    <tr>\n",
       "      <th>2</th>\n",
       "      <td>2015-12-16</td>\n",
       "      <td>0.09</td>\n",
       "    </tr>\n",
       "    <tr>\n",
       "      <th>3</th>\n",
       "      <td>2015-12-18</td>\n",
       "      <td>-0.95</td>\n",
       "    </tr>\n",
       "    <tr>\n",
       "      <th>4</th>\n",
       "      <td>2015-12-21</td>\n",
       "      <td>-2.19</td>\n",
       "    </tr>\n",
       "    <tr>\n",
       "      <th>5</th>\n",
       "      <td>2015-12-23</td>\n",
       "      <td>-0.33</td>\n",
       "    </tr>\n",
       "    <tr>\n",
       "      <th>6</th>\n",
       "      <td>2015-12-28</td>\n",
       "      <td>-2.09</td>\n",
       "    </tr>\n",
       "    <tr>\n",
       "      <th>7</th>\n",
       "      <td>2015-12-29</td>\n",
       "      <td>-1.00</td>\n",
       "    </tr>\n",
       "    <tr>\n",
       "      <th>8</th>\n",
       "      <td>2016-01-01</td>\n",
       "      <td>-0.78</td>\n",
       "    </tr>\n",
       "    <tr>\n",
       "      <th>9</th>\n",
       "      <td>2016-01-02</td>\n",
       "      <td>-0.16</td>\n",
       "    </tr>\n",
       "  </tbody>\n",
       "</table>\n",
       "</div>"
      ],
      "text/plain": [
       "         date  sentiment\n",
       "0  2015-12-14       0.00\n",
       "1  2015-12-15      -0.53\n",
       "2  2015-12-16       0.09\n",
       "3  2015-12-18      -0.95\n",
       "4  2015-12-21      -2.19\n",
       "5  2015-12-23      -0.33\n",
       "6  2015-12-28      -2.09\n",
       "7  2015-12-29      -1.00\n",
       "8  2016-01-01      -0.78\n",
       "9  2016-01-02      -0.16"
      ]
     },
     "execution_count": 12,
     "metadata": {},
     "output_type": "execute_result"
    }
   ],
   "source": [
    "sent_df_grouped_sum[:10]"
   ]
  }
 ],
 "metadata": {
  "kernelspec": {
   "display_name": "Python 3",
   "language": "python",
   "name": "python3"
  },
  "language_info": {
   "codemirror_mode": {
    "name": "ipython",
    "version": 3
   },
   "file_extension": ".py",
   "mimetype": "text/x-python",
   "name": "python",
   "nbconvert_exporter": "python",
   "pygments_lexer": "ipython3",
   "version": "3.7.6"
  }
 },
 "nbformat": 4,
 "nbformat_minor": 4
}
