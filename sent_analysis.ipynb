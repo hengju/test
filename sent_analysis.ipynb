{
 "cells": [
  {
   "cell_type": "code",
   "execution_count": 2,
   "metadata": {},
   "outputs": [],
   "source": [
    "from bs4 import BeautifulSoup\n",
    "import requests\n",
    "import re\n",
    "import os\n",
    "import pandas as pd"
   ]
  },
  {
   "cell_type": "code",
   "execution_count": null,
   "metadata": {},
   "outputs": [],
   "source": [
    "os.chdir('your directory')"
   ]
  },
  {
   "cell_type": "code",
   "execution_count": null,
   "metadata": {},
   "outputs": [],
   "source": [
    "raw_data = pd.read_csv('full_table/aggregated.csv', dtype=str, usecols=['date','title','link','content'])\n",
    "index = pd.DataFrame({'index' : [i for i in range(2500)]}) \n",
    "raw_data.insert(0, 'index', index)\n",
    "content_df = raw_data['content']"
   ]
  },
  {
   "cell_type": "code",
   "execution_count": null,
   "metadata": {},
   "outputs": [],
   "source": [
    "from nltk import sent_tokenize, word_tokenize \n",
    "from nltk.corpus import stopwords\n",
    "\n",
    "# NLTK의 불용어(Stopword) \n",
    "stops = set(stopwords.words(\"english\"))"
   ]
  },
  {
   "cell_type": "markdown",
   "metadata": {},
   "source": [
    "Loughran and McDonald(2011) Financial Dictionary 사용: 긍정 및 부정 어휘 "
   ]
  },
  {
   "cell_type": "code",
   "execution_count": null,
   "metadata": {},
   "outputs": [],
   "source": [
    "dic_pos = pd.read_csv(\"test/fin_pos.txt\", names=['word_list'], quoting=3)\n",
    "dic_pos = dic_pos['word_list'].tolist() \n",
    "dic_neg = pd.read_csv(\"test/fin_neg.txt\", names=['word_list'], quoting=3)\n",
    "dic_neg = dic_neg['word_list'].tolist() "
   ]
  },
  {
   "cell_type": "raw",
   "metadata": {},
   "source": [
    "데이터 전처리, 토크나이징 및 감성지수 계산"
   ]
  },
  {
   "cell_type": "code",
   "execution_count": null,
   "metadata": {},
   "outputs": [],
   "source": [
    "def calculate_sentiment(text):   \n",
    "    \n",
    "    # 클렌징 작업 \n",
    "    text = text[:-250]\n",
    "    text = re.sub(r'(?=googletag)(.*)(?=;).+', '', text)\n",
    "    text = re.sub('[^a-zA-Z\\s]', '', text)\n",
    "    text = text.lower() \n",
    "    text = ' '.join(text.split())\n",
    "    text = text[0:3499]      # 리스트의 모든 문자열을 평균 길이(3500)로 통일 \n",
    "    \n",
    "\n",
    "    # 토크나이징 및 불용어 제거   \n",
    "    tokenized_text = sent_tokenize(text)  #nltk sent tokenizing\n",
    "    word_list = [] \n",
    "    \n",
    "    for each in tokenized_text: \n",
    "        word_list.extend(word_tokenize(text)) \n",
    "\n",
    "    word_list = [w for w in word_list if not w in stops]\n",
    "    \n",
    "\n",
    "    # 감성지수(Sentiment Index) 계산\n",
    "  \n",
    "    # Positive\n",
    "    pos_word_list = [word for word in word_list if word in dic_pos]     \n",
    "\n",
    "    # Negative\n",
    "    neg_word_list = [word for word in word_list if word in dic_neg]     \n",
    "  \n",
    "    # Count \n",
    "    total_sent = len(pos_word_list) - len(neg_word_list)\n",
    "    total_length = len(pos_word_list) + len(neg_word_list)\n",
    "    \n",
    "    if total_length == 0:       # Financial Dictionary와 하나도 매칭이 안되는 경우\n",
    "        \n",
    "        return 0.00 \n",
    "    \n",
    "    else: \n",
    "        sent_index = (total_sent / total_length)\n",
    "    \n",
    "        return '{:.2f}'.format(sent_index)"
   ]
  },
  {
   "cell_type": "code",
   "execution_count": null,
   "metadata": {},
   "outputs": [],
   "source": [
    "sent_list = []\n",
    "for i in range(0,2500):\n",
    "    text = content_df[i] \n",
    "    sent_list.append(calculate_sentiment(text)) \n",
    "\n",
    "sent_df = pd.DataFrame({'index' : [i for i in range(2500)], 'sentiment' : sent_list}, dtype=str)"
   ]
  },
  {
   "cell_type": "markdown",
   "metadata": {},
   "source": [
    "모든 변수 합치기. Outer merge by index"
   ]
  },
  {
   "cell_type": "code",
   "execution_count": null,
   "metadata": {},
   "outputs": [],
   "source": [
    "left_data = raw_data\n",
    "right_data = sent_df     \n",
    "final_df = pd.merge(left_data, right_data, how='outer', on='index')  \n",
    "final_df.to_csv('full_table/sent.csv',sep=',', encoding='utf-8', index=False)"
   ]
  }
 ],
 "metadata": {
  "kernelspec": {
   "display_name": "Python 3",
   "language": "python",
   "name": "python3"
  },
  "language_info": {
   "codemirror_mode": {
    "name": "ipython",
    "version": 3
   },
   "file_extension": ".py",
   "mimetype": "text/x-python",
   "name": "python",
   "nbconvert_exporter": "python",
   "pygments_lexer": "ipython3",
   "version": "3.7.6"
  }
 },
 "nbformat": 4,
 "nbformat_minor": 4
}
